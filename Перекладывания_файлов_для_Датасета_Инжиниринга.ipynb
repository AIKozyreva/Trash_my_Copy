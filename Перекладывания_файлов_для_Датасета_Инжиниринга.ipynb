{
  "nbformat": 4,
  "nbformat_minor": 0,
  "metadata": {
    "colab": {
      "provenance": [],
      "authorship_tag": "ABX9TyOY4hyQi32YN5fLAt620kxK",
      "include_colab_link": true
    },
    "kernelspec": {
      "name": "python3",
      "display_name": "Python 3"
    },
    "language_info": {
      "name": "python"
    }
  },
  "cells": [
    {
      "cell_type": "markdown",
      "metadata": {
        "id": "view-in-github",
        "colab_type": "text"
      },
      "source": [
        "<a href=\"https://colab.research.google.com/github/lirnara/Trash/blob/Anfisa-tried-to-make-smth/%D0%9F%D0%B5%D1%80%D0%B5%D0%BA%D0%BB%D0%B0%D0%B4%D1%8B%D0%B2%D0%B0%D0%BD%D0%B8%D1%8F_%D1%84%D0%B0%D0%B9%D0%BB%D0%BE%D0%B2_%D0%B4%D0%BB%D1%8F_%D0%94%D0%B0%D1%82%D0%B0%D1%81%D0%B5%D1%82%D0%B0_%D0%98%D0%BD%D0%B6%D0%B8%D0%BD%D0%B8%D1%80%D0%B8%D0%BD%D0%B3%D0%B0.ipynb\" target=\"_parent\"><img src=\"https://colab.research.google.com/assets/colab-badge.svg\" alt=\"Open In Colab\"/></a>"
      ]
    },
    {
      "cell_type": "markdown",
      "source": [
        "!ATTENTION! При использовании этого кода будьте внимательны с именами файлов и датасетов, которые вы используете - они же - папки, с которыми работает коллаб. Код не очень универсален, если у вас другие наименования датасетов - вам придётся заменить названия и пути к нему, упомянутые в коде ниже."
      ],
      "metadata": {
        "id": "5w4umUfcQD-s"
      }
    },
    {
      "cell_type": "markdown",
      "source": [
        "Устанавливаем библиотеки для действий с разными архивами"
      ],
      "metadata": {
        "id": "RApcQEh-PiOp"
      }
    },
    {
      "cell_type": "code",
      "source": [
        "!pip install py7zr\n"
      ],
      "metadata": {
        "id": "EDhVR3jM0rtw"
      },
      "execution_count": null,
      "outputs": []
    },
    {
      "cell_type": "markdown",
      "source": [
        "Если вы загружаете все библиотеки разом, то из дальнейших ячеек строки с этими шагами можно удалить (но я не буду, потому что мне удобнее видеть, что и когда я пользую)"
      ],
      "metadata": {
        "id": "YSdBepghPyRn"
      }
    },
    {
      "cell_type": "code",
      "source": [
        "import os\n",
        "import py7zr\n",
        "import shutil\n",
        "import random\n",
        "import zipfile"
      ],
      "metadata": {
        "id": "fzPnS-ftPoHh"
      },
      "execution_count": null,
      "outputs": []
    },
    {
      "cell_type": "markdown",
      "source": [
        "Подгружаем архив напарсенного датасета с мед.изображениями"
      ],
      "metadata": {
        "id": "9gJ48SASMw-K"
      }
    },
    {
      "cell_type": "code",
      "execution_count": 1,
      "metadata": {
        "colab": {
          "base_uri": "https://localhost:8080/",
          "height": 72
        },
        "id": "Yhkio4FW0j5J",
        "outputId": "7b74c311-709d-4bdb-c9f4-c467b6f0b811"
      },
      "outputs": [
        {
          "output_type": "display_data",
          "data": {
            "text/plain": [
              "<IPython.core.display.HTML object>"
            ],
            "text/html": [
              "\n",
              "     <input type=\"file\" id=\"files-de2118b7-d75c-41d6-bf5c-869cdaf499fe\" name=\"files[]\" multiple disabled\n",
              "        style=\"border:none\" />\n",
              "     <output id=\"result-de2118b7-d75c-41d6-bf5c-869cdaf499fe\">\n",
              "      Upload widget is only available when the cell has been executed in the\n",
              "      current browser session. Please rerun this cell to enable.\n",
              "      </output>\n",
              "      <script>// Copyright 2017 Google LLC\n",
              "//\n",
              "// Licensed under the Apache License, Version 2.0 (the \"License\");\n",
              "// you may not use this file except in compliance with the License.\n",
              "// You may obtain a copy of the License at\n",
              "//\n",
              "//      http://www.apache.org/licenses/LICENSE-2.0\n",
              "//\n",
              "// Unless required by applicable law or agreed to in writing, software\n",
              "// distributed under the License is distributed on an \"AS IS\" BASIS,\n",
              "// WITHOUT WARRANTIES OR CONDITIONS OF ANY KIND, either express or implied.\n",
              "// See the License for the specific language governing permissions and\n",
              "// limitations under the License.\n",
              "\n",
              "/**\n",
              " * @fileoverview Helpers for google.colab Python module.\n",
              " */\n",
              "(function(scope) {\n",
              "function span(text, styleAttributes = {}) {\n",
              "  const element = document.createElement('span');\n",
              "  element.textContent = text;\n",
              "  for (const key of Object.keys(styleAttributes)) {\n",
              "    element.style[key] = styleAttributes[key];\n",
              "  }\n",
              "  return element;\n",
              "}\n",
              "\n",
              "// Max number of bytes which will be uploaded at a time.\n",
              "const MAX_PAYLOAD_SIZE = 100 * 1024;\n",
              "\n",
              "function _uploadFiles(inputId, outputId) {\n",
              "  const steps = uploadFilesStep(inputId, outputId);\n",
              "  const outputElement = document.getElementById(outputId);\n",
              "  // Cache steps on the outputElement to make it available for the next call\n",
              "  // to uploadFilesContinue from Python.\n",
              "  outputElement.steps = steps;\n",
              "\n",
              "  return _uploadFilesContinue(outputId);\n",
              "}\n",
              "\n",
              "// This is roughly an async generator (not supported in the browser yet),\n",
              "// where there are multiple asynchronous steps and the Python side is going\n",
              "// to poll for completion of each step.\n",
              "// This uses a Promise to block the python side on completion of each step,\n",
              "// then passes the result of the previous step as the input to the next step.\n",
              "function _uploadFilesContinue(outputId) {\n",
              "  const outputElement = document.getElementById(outputId);\n",
              "  const steps = outputElement.steps;\n",
              "\n",
              "  const next = steps.next(outputElement.lastPromiseValue);\n",
              "  return Promise.resolve(next.value.promise).then((value) => {\n",
              "    // Cache the last promise value to make it available to the next\n",
              "    // step of the generator.\n",
              "    outputElement.lastPromiseValue = value;\n",
              "    return next.value.response;\n",
              "  });\n",
              "}\n",
              "\n",
              "/**\n",
              " * Generator function which is called between each async step of the upload\n",
              " * process.\n",
              " * @param {string} inputId Element ID of the input file picker element.\n",
              " * @param {string} outputId Element ID of the output display.\n",
              " * @return {!Iterable<!Object>} Iterable of next steps.\n",
              " */\n",
              "function* uploadFilesStep(inputId, outputId) {\n",
              "  const inputElement = document.getElementById(inputId);\n",
              "  inputElement.disabled = false;\n",
              "\n",
              "  const outputElement = document.getElementById(outputId);\n",
              "  outputElement.innerHTML = '';\n",
              "\n",
              "  const pickedPromise = new Promise((resolve) => {\n",
              "    inputElement.addEventListener('change', (e) => {\n",
              "      resolve(e.target.files);\n",
              "    });\n",
              "  });\n",
              "\n",
              "  const cancel = document.createElement('button');\n",
              "  inputElement.parentElement.appendChild(cancel);\n",
              "  cancel.textContent = 'Cancel upload';\n",
              "  const cancelPromise = new Promise((resolve) => {\n",
              "    cancel.onclick = () => {\n",
              "      resolve(null);\n",
              "    };\n",
              "  });\n",
              "\n",
              "  // Wait for the user to pick the files.\n",
              "  const files = yield {\n",
              "    promise: Promise.race([pickedPromise, cancelPromise]),\n",
              "    response: {\n",
              "      action: 'starting',\n",
              "    }\n",
              "  };\n",
              "\n",
              "  cancel.remove();\n",
              "\n",
              "  // Disable the input element since further picks are not allowed.\n",
              "  inputElement.disabled = true;\n",
              "\n",
              "  if (!files) {\n",
              "    return {\n",
              "      response: {\n",
              "        action: 'complete',\n",
              "      }\n",
              "    };\n",
              "  }\n",
              "\n",
              "  for (const file of files) {\n",
              "    const li = document.createElement('li');\n",
              "    li.append(span(file.name, {fontWeight: 'bold'}));\n",
              "    li.append(span(\n",
              "        `(${file.type || 'n/a'}) - ${file.size} bytes, ` +\n",
              "        `last modified: ${\n",
              "            file.lastModifiedDate ? file.lastModifiedDate.toLocaleDateString() :\n",
              "                                    'n/a'} - `));\n",
              "    const percent = span('0% done');\n",
              "    li.appendChild(percent);\n",
              "\n",
              "    outputElement.appendChild(li);\n",
              "\n",
              "    const fileDataPromise = new Promise((resolve) => {\n",
              "      const reader = new FileReader();\n",
              "      reader.onload = (e) => {\n",
              "        resolve(e.target.result);\n",
              "      };\n",
              "      reader.readAsArrayBuffer(file);\n",
              "    });\n",
              "    // Wait for the data to be ready.\n",
              "    let fileData = yield {\n",
              "      promise: fileDataPromise,\n",
              "      response: {\n",
              "        action: 'continue',\n",
              "      }\n",
              "    };\n",
              "\n",
              "    // Use a chunked sending to avoid message size limits. See b/62115660.\n",
              "    let position = 0;\n",
              "    do {\n",
              "      const length = Math.min(fileData.byteLength - position, MAX_PAYLOAD_SIZE);\n",
              "      const chunk = new Uint8Array(fileData, position, length);\n",
              "      position += length;\n",
              "\n",
              "      const base64 = btoa(String.fromCharCode.apply(null, chunk));\n",
              "      yield {\n",
              "        response: {\n",
              "          action: 'append',\n",
              "          file: file.name,\n",
              "          data: base64,\n",
              "        },\n",
              "      };\n",
              "\n",
              "      let percentDone = fileData.byteLength === 0 ?\n",
              "          100 :\n",
              "          Math.round((position / fileData.byteLength) * 100);\n",
              "      percent.textContent = `${percentDone}% done`;\n",
              "\n",
              "    } while (position < fileData.byteLength);\n",
              "  }\n",
              "\n",
              "  // All done.\n",
              "  yield {\n",
              "    response: {\n",
              "      action: 'complete',\n",
              "    }\n",
              "  };\n",
              "}\n",
              "\n",
              "scope.google = scope.google || {};\n",
              "scope.google.colab = scope.google.colab || {};\n",
              "scope.google.colab._files = {\n",
              "  _uploadFiles,\n",
              "  _uploadFilesContinue,\n",
              "};\n",
              "})(self);\n",
              "</script> "
            ]
          },
          "metadata": {}
        },
        {
          "output_type": "stream",
          "name": "stdout",
          "text": [
            "Saving DATASET (1).zip to DATASET (1).zip\n"
          ]
        }
      ],
      "source": [
        "from google.colab import files\n",
        "uploaded = files.upload()"
      ]
    },
    {
      "cell_type": "markdown",
      "source": [
        "Распаковываем архив"
      ],
      "metadata": {
        "id": "bhZ17EgJM7j3"
      }
    },
    {
      "cell_type": "code",
      "source": [
        "import os\n",
        "import py7zr\n",
        "\n",
        "# Get the name of the uploaded .7z file\n",
        "file_name = list(uploaded.keys())[0]\n",
        "\n",
        "# Specify the extraction path\n",
        "extract_path = '/content/extracted_data'\n",
        "\n",
        "# Create the extraction directory if it doesn't exist\n",
        "os.makedirs(extract_path, exist_ok=True)\n",
        "\n",
        "# Extract the .7z file\n",
        "with py7zr.SevenZipFile(file_name, mode='r') as z:\n",
        "    z.extractall(extract_path)\n",
        "\n",
        "# List the extracted folders and files\n",
        "extracted_contents = os.listdir(extract_path)\n",
        "print(\"Extracted contents:\", extracted_contents)\n"
      ],
      "metadata": {
        "colab": {
          "base_uri": "https://localhost:8080/"
        },
        "id": "FAgvpail39Zy",
        "outputId": "7205cdfa-fab0-452b-cd55-6cd7d1ee7e1e"
      },
      "execution_count": 3,
      "outputs": [
        {
          "output_type": "stream",
          "name": "stdout",
          "text": [
            "Extracted contents: ['_Parced', \"_won't use\"]\n"
          ]
        }
      ]
    },
    {
      "cell_type": "markdown",
      "source": [
        "Заходим в каждую подпапку папки _Parced и переносим все элементы в целевые папки TRAIN/M и TEST/M нашего финального датасета, причём в каждую идёт 50% случайных изображений из общего пула, который был извлечён из всех подпапок внутри _Parced."
      ],
      "metadata": {
        "id": "RX6vN__YM_HZ"
      }
    },
    {
      "cell_type": "code",
      "source": [
        "import os\n",
        "import shutil\n",
        "import random\n",
        "\n",
        "# Define input and output directories\n",
        "input_directory = '/content/extracted_data/_Parced'\n",
        "output_directory = '/content/extracted_data/DATASET'\n",
        "\n",
        "# Create train and test directories\n",
        "train_directory = os.path.join(output_directory, 'TRAIN', 'M')\n",
        "test_directory = os.path.join(output_directory, 'TEST', 'M')\n",
        "\n",
        "os.makedirs(train_directory, exist_ok=True)\n",
        "os.makedirs(test_directory, exist_ok=True)\n",
        "\n",
        "# Function to copy random images from source to destination\n",
        "def copy_random_images(source, destination, split_ratio=0.5):\n",
        "    files = os.listdir(source)\n",
        "    num_files = len(files)\n",
        "\n",
        "    # Calculate the number of files to copy for training and testing\n",
        "    num_train = int(num_files * split_ratio)\n",
        "\n",
        "    # Randomly shuffle the list of files\n",
        "    random.shuffle(files)\n",
        "\n",
        "    # Copy files to the training directory\n",
        "    for file in files[:num_train]:\n",
        "        source_path = os.path.join(source, file)\n",
        "        destination_path = os.path.join(destination, file)\n",
        "        shutil.copy(source_path, destination_path)\n",
        "\n",
        "# Create a list to store all images from all subfolders\n",
        "all_images = []\n",
        "\n",
        "# Loop through each element of each folder in the input directory\n",
        "for root, dirs, files in os.walk(input_directory):\n",
        "    for file in files:\n",
        "        file_path = os.path.join(root, file)\n",
        "        all_images.append(file_path)\n",
        "\n",
        "# Shuffle the list of all images\n",
        "random.shuffle(all_images)\n",
        "\n",
        "# Calculate the number of images for training\n",
        "num_train_images = int(len(all_images) * 0.5)\n",
        "\n",
        "# Copy files to the training directory\n",
        "for file_path in all_images[:num_train_images]:\n",
        "    destination_path = os.path.join(train_directory, os.path.basename(file_path))\n",
        "    shutil.copy(file_path, destination_path)\n",
        "\n",
        "# Copy files to the testing directory\n",
        "for file_path in all_images[num_train_images:]:\n",
        "    destination_path = os.path.join(test_directory, os.path.basename(file_path))\n",
        "    shutil.copy(file_path, destination_path)\n",
        "\n"
      ],
      "metadata": {
        "id": "be_n0Lef43qO"
      },
      "execution_count": 4,
      "outputs": []
    },
    {
      "cell_type": "markdown",
      "source": [
        "Подсчёт количества элементов в целевых TRAIN/M TEST/M папках"
      ],
      "metadata": {
        "id": "hYukVxQJNZs8"
      }
    },
    {
      "cell_type": "code",
      "source": [
        "import os\n",
        "\n",
        "# Define the paths to the train and test directories\n",
        "train_directory = '/content/extracted_data/DATASET/TRAIN/M'\n",
        "test_directory = '/content/extracted_data/DATASET/TEST/M'\n",
        "\n",
        "# Function to count items in a directory\n",
        "def count_items(directory):\n",
        "    return len(os.listdir(directory))\n",
        "\n",
        "# Count items in the train and test directories\n",
        "train_count = count_items(train_directory)\n",
        "test_count = count_items(test_directory)\n",
        "\n",
        "# Print the results\n",
        "print(f\"Number of items in TRAIN/M: {train_count}\")\n",
        "print(f\"Number of items in TEST/M: {test_count}\")\n"
      ],
      "metadata": {
        "colab": {
          "base_uri": "https://localhost:8080/"
        },
        "id": "pZakpHEM8NA6",
        "outputId": "f76ed22c-ef1e-4859-9b60-5b2915ba87be"
      },
      "execution_count": 5,
      "outputs": [
        {
          "output_type": "stream",
          "name": "stdout",
          "text": [
            "Number of items in TRAIN/M: 324\n",
            "Number of items in TEST/M: 325\n"
          ]
        }
      ]
    },
    {
      "cell_type": "markdown",
      "source": [
        "Архивируем этот вариант датасета на всякий случай, чтобы скачать его при необходимости"
      ],
      "metadata": {
        "id": "bWqe0mJKNhiJ"
      }
    },
    {
      "cell_type": "code",
      "source": [
        "import shutil\n",
        "\n",
        "# Define the paths\n",
        "dataset_directory = '/content/extracted_data/DATASET'\n",
        "zip_file_path = '/content/DATASET.zip'\n",
        "\n",
        "# Create a zip file of the DATASET directory\n",
        "shutil.make_archive(zip_file_path.replace('.zip', ''), 'zip', dataset_directory)\n",
        "\n",
        "# Move the zip file to /content\n",
        "shutil.move(zip_file_path.replace('.zip', '') + '.zip', '/content/DATASET.zip')\n"
      ],
      "metadata": {
        "colab": {
          "base_uri": "https://localhost:8080/",
          "height": 36
        },
        "id": "QiQ3X7V5_XfV",
        "outputId": "a58502a0-8642-4085-ee13-ec423b21c1b7"
      },
      "execution_count": 6,
      "outputs": [
        {
          "output_type": "execute_result",
          "data": {
            "text/plain": [
              "'/content/DATASET.zip'"
            ],
            "application/vnd.google.colaboratory.intrinsic+json": {
              "type": "string"
            }
          },
          "metadata": {},
          "execution_count": 6
        }
      ]
    },
    {
      "cell_type": "code",
      "source": [
        "import zipfile\n",
        "import os\n",
        "\n",
        "# Get the name of the uploaded .7z file\n",
        "file_name = list(uploaded.keys())[0]\n",
        "\n",
        "# Specify the extraction path\n",
        "extract_path = '/content/extracted_data'\n",
        "\n",
        "# Create the extraction directory if it doesn't exist\n",
        "os.makedirs(extract_path, exist_ok=True)\n",
        "\n",
        "# Unzip the DATASET.zip file\n",
        "with zipfile.ZipFile(file_name, 'r') as zip_ref:\n",
        "    zip_ref.extractall(extract_path)\n",
        "\n",
        "# Check if the extraction was successful\n",
        "if os.path.exists(extract_path):\n",
        "    print(f\"Extraction successful. Dataset is located at: {extract_path}\")\n",
        "else:\n",
        "    print(\"Extraction failed. Please check the zip file path and try again.\")\n",
        "\n"
      ],
      "metadata": {
        "colab": {
          "base_uri": "https://localhost:8080/"
        },
        "id": "77GJ_NxqB8Fb",
        "outputId": "9039bd3c-ddc3-4742-b612-a31bbc75150e"
      },
      "execution_count": 4,
      "outputs": [
        {
          "output_type": "stream",
          "name": "stdout",
          "text": [
            "Extraction successful. Dataset is located at: /content/extracted_data\n"
          ]
        }
      ]
    },
    {
      "cell_type": "markdown",
      "source": [
        "Импорт второго архивного файла - Готовый мусорный датасет (датасет2) с просторов Kaggle"
      ],
      "metadata": {
        "id": "Llapt3ctN5p8"
      }
    },
    {
      "cell_type": "code",
      "source": [
        "from google.colab import files\n",
        "uploaded2 = files.upload()"
      ],
      "metadata": {
        "colab": {
          "base_uri": "https://localhost:8080/",
          "height": 72
        },
        "id": "Eb4rqmcyKIHQ",
        "outputId": "d78ccfd2-9477-4b77-b3a1-27ca8a0c7e07"
      },
      "execution_count": 5,
      "outputs": [
        {
          "output_type": "display_data",
          "data": {
            "text/plain": [
              "<IPython.core.display.HTML object>"
            ],
            "text/html": [
              "\n",
              "     <input type=\"file\" id=\"files-81fbc2ae-bd49-4b43-b5ea-3be5550d640d\" name=\"files[]\" multiple disabled\n",
              "        style=\"border:none\" />\n",
              "     <output id=\"result-81fbc2ae-bd49-4b43-b5ea-3be5550d640d\">\n",
              "      Upload widget is only available when the cell has been executed in the\n",
              "      current browser session. Please rerun this cell to enable.\n",
              "      </output>\n",
              "      <script>// Copyright 2017 Google LLC\n",
              "//\n",
              "// Licensed under the Apache License, Version 2.0 (the \"License\");\n",
              "// you may not use this file except in compliance with the License.\n",
              "// You may obtain a copy of the License at\n",
              "//\n",
              "//      http://www.apache.org/licenses/LICENSE-2.0\n",
              "//\n",
              "// Unless required by applicable law or agreed to in writing, software\n",
              "// distributed under the License is distributed on an \"AS IS\" BASIS,\n",
              "// WITHOUT WARRANTIES OR CONDITIONS OF ANY KIND, either express or implied.\n",
              "// See the License for the specific language governing permissions and\n",
              "// limitations under the License.\n",
              "\n",
              "/**\n",
              " * @fileoverview Helpers for google.colab Python module.\n",
              " */\n",
              "(function(scope) {\n",
              "function span(text, styleAttributes = {}) {\n",
              "  const element = document.createElement('span');\n",
              "  element.textContent = text;\n",
              "  for (const key of Object.keys(styleAttributes)) {\n",
              "    element.style[key] = styleAttributes[key];\n",
              "  }\n",
              "  return element;\n",
              "}\n",
              "\n",
              "// Max number of bytes which will be uploaded at a time.\n",
              "const MAX_PAYLOAD_SIZE = 100 * 1024;\n",
              "\n",
              "function _uploadFiles(inputId, outputId) {\n",
              "  const steps = uploadFilesStep(inputId, outputId);\n",
              "  const outputElement = document.getElementById(outputId);\n",
              "  // Cache steps on the outputElement to make it available for the next call\n",
              "  // to uploadFilesContinue from Python.\n",
              "  outputElement.steps = steps;\n",
              "\n",
              "  return _uploadFilesContinue(outputId);\n",
              "}\n",
              "\n",
              "// This is roughly an async generator (not supported in the browser yet),\n",
              "// where there are multiple asynchronous steps and the Python side is going\n",
              "// to poll for completion of each step.\n",
              "// This uses a Promise to block the python side on completion of each step,\n",
              "// then passes the result of the previous step as the input to the next step.\n",
              "function _uploadFilesContinue(outputId) {\n",
              "  const outputElement = document.getElementById(outputId);\n",
              "  const steps = outputElement.steps;\n",
              "\n",
              "  const next = steps.next(outputElement.lastPromiseValue);\n",
              "  return Promise.resolve(next.value.promise).then((value) => {\n",
              "    // Cache the last promise value to make it available to the next\n",
              "    // step of the generator.\n",
              "    outputElement.lastPromiseValue = value;\n",
              "    return next.value.response;\n",
              "  });\n",
              "}\n",
              "\n",
              "/**\n",
              " * Generator function which is called between each async step of the upload\n",
              " * process.\n",
              " * @param {string} inputId Element ID of the input file picker element.\n",
              " * @param {string} outputId Element ID of the output display.\n",
              " * @return {!Iterable<!Object>} Iterable of next steps.\n",
              " */\n",
              "function* uploadFilesStep(inputId, outputId) {\n",
              "  const inputElement = document.getElementById(inputId);\n",
              "  inputElement.disabled = false;\n",
              "\n",
              "  const outputElement = document.getElementById(outputId);\n",
              "  outputElement.innerHTML = '';\n",
              "\n",
              "  const pickedPromise = new Promise((resolve) => {\n",
              "    inputElement.addEventListener('change', (e) => {\n",
              "      resolve(e.target.files);\n",
              "    });\n",
              "  });\n",
              "\n",
              "  const cancel = document.createElement('button');\n",
              "  inputElement.parentElement.appendChild(cancel);\n",
              "  cancel.textContent = 'Cancel upload';\n",
              "  const cancelPromise = new Promise((resolve) => {\n",
              "    cancel.onclick = () => {\n",
              "      resolve(null);\n",
              "    };\n",
              "  });\n",
              "\n",
              "  // Wait for the user to pick the files.\n",
              "  const files = yield {\n",
              "    promise: Promise.race([pickedPromise, cancelPromise]),\n",
              "    response: {\n",
              "      action: 'starting',\n",
              "    }\n",
              "  };\n",
              "\n",
              "  cancel.remove();\n",
              "\n",
              "  // Disable the input element since further picks are not allowed.\n",
              "  inputElement.disabled = true;\n",
              "\n",
              "  if (!files) {\n",
              "    return {\n",
              "      response: {\n",
              "        action: 'complete',\n",
              "      }\n",
              "    };\n",
              "  }\n",
              "\n",
              "  for (const file of files) {\n",
              "    const li = document.createElement('li');\n",
              "    li.append(span(file.name, {fontWeight: 'bold'}));\n",
              "    li.append(span(\n",
              "        `(${file.type || 'n/a'}) - ${file.size} bytes, ` +\n",
              "        `last modified: ${\n",
              "            file.lastModifiedDate ? file.lastModifiedDate.toLocaleDateString() :\n",
              "                                    'n/a'} - `));\n",
              "    const percent = span('0% done');\n",
              "    li.appendChild(percent);\n",
              "\n",
              "    outputElement.appendChild(li);\n",
              "\n",
              "    const fileDataPromise = new Promise((resolve) => {\n",
              "      const reader = new FileReader();\n",
              "      reader.onload = (e) => {\n",
              "        resolve(e.target.result);\n",
              "      };\n",
              "      reader.readAsArrayBuffer(file);\n",
              "    });\n",
              "    // Wait for the data to be ready.\n",
              "    let fileData = yield {\n",
              "      promise: fileDataPromise,\n",
              "      response: {\n",
              "        action: 'continue',\n",
              "      }\n",
              "    };\n",
              "\n",
              "    // Use a chunked sending to avoid message size limits. See b/62115660.\n",
              "    let position = 0;\n",
              "    do {\n",
              "      const length = Math.min(fileData.byteLength - position, MAX_PAYLOAD_SIZE);\n",
              "      const chunk = new Uint8Array(fileData, position, length);\n",
              "      position += length;\n",
              "\n",
              "      const base64 = btoa(String.fromCharCode.apply(null, chunk));\n",
              "      yield {\n",
              "        response: {\n",
              "          action: 'append',\n",
              "          file: file.name,\n",
              "          data: base64,\n",
              "        },\n",
              "      };\n",
              "\n",
              "      let percentDone = fileData.byteLength === 0 ?\n",
              "          100 :\n",
              "          Math.round((position / fileData.byteLength) * 100);\n",
              "      percent.textContent = `${percentDone}% done`;\n",
              "\n",
              "    } while (position < fileData.byteLength);\n",
              "  }\n",
              "\n",
              "  // All done.\n",
              "  yield {\n",
              "    response: {\n",
              "      action: 'complete',\n",
              "    }\n",
              "  };\n",
              "}\n",
              "\n",
              "scope.google = scope.google || {};\n",
              "scope.google.colab = scope.google.colab || {};\n",
              "scope.google.colab._files = {\n",
              "  _uploadFiles,\n",
              "  _uploadFilesContinue,\n",
              "};\n",
              "})(self);\n",
              "</script> "
            ]
          },
          "metadata": {}
        },
        {
          "output_type": "stream",
          "name": "stdout",
          "text": [
            "Saving archive.zip to archive.zip\n"
          ]
        }
      ]
    },
    {
      "cell_type": "markdown",
      "source": [
        "Разархивируем"
      ],
      "metadata": {
        "id": "5zpghpyzOLp5"
      }
    },
    {
      "cell_type": "code",
      "source": [
        "import zipfile\n",
        "import os\n",
        "\n",
        "# Get the name of the uploaded file\n",
        "file_name = list(uploaded2.keys())[0]\n",
        "\n",
        "# Specify the extraction path\n",
        "extract_path = '/content/extracted_data2'\n",
        "\n",
        "# Create the extraction directory if it doesn't exist\n",
        "os.makedirs(extract_path, exist_ok=True)\n",
        "\n",
        "# Unzip the uploaded .zip file\n",
        "with zipfile.ZipFile(file_name, 'r') as zip_ref:\n",
        "    zip_ref.extractall(extract_path)\n",
        "\n",
        "# Check if the extraction was successful\n",
        "if os.path.exists(extract_path):\n",
        "    print(f\"Extraction successful. Dataset is located at: {extract_path}\")\n",
        "else:\n",
        "    print(\"Extraction failed. Please check the zip file path and try again.\")"
      ],
      "metadata": {
        "colab": {
          "base_uri": "https://localhost:8080/"
        },
        "id": "jc7GUmrVNGt2",
        "outputId": "313ad5de-4318-41fc-b06f-1f259d1762cb"
      },
      "execution_count": 7,
      "outputs": [
        {
          "output_type": "stream",
          "name": "stdout",
          "text": [
            "Extraction successful. Dataset is located at: /content/extracted_data2\n"
          ]
        }
      ]
    },
    {
      "cell_type": "markdown",
      "source": [
        "Также, как и выше, перетащим все файлы в целевые папки уже TRAIN/Other TEST/Other (папки с картинками не мед мусора) нашего финального датасета, соотношение файлов 50% случайных на 50% от общего пула файлов из датасета2"
      ],
      "metadata": {
        "id": "8JGF7Ex1ON_X"
      }
    },
    {
      "cell_type": "code",
      "source": [
        "import os\n",
        "import shutil\n",
        "import random\n",
        "\n",
        "# Define input and output directories\n",
        "input_directory = '/content/extracted_data2/TrashType_Image_Dataset'\n",
        "output_directory = '/content/extracted_data'\n",
        "\n",
        "# Create train and test directories for 'Other'\n",
        "train_directory = os.path.join(output_directory, 'TRAIN', 'Other')\n",
        "test_directory = os.path.join(output_directory, 'TEST', 'Other')\n",
        "\n",
        "os.makedirs(train_directory, exist_ok=True)\n",
        "os.makedirs(test_directory, exist_ok=True)\n",
        "\n",
        "# Function to copy random images from source to destination\n",
        "def copy_random_images(source, destination, split_ratio=0.5):\n",
        "    files = os.listdir(source)\n",
        "    num_files = len(files)\n",
        "\n",
        "    # Calculate the number of files to copy for training and testing\n",
        "    num_train = int(num_files * split_ratio)\n",
        "\n",
        "    # Randomly shuffle the list of files\n",
        "    random.shuffle(files)\n",
        "\n",
        "    # Copy files to the training directory\n",
        "    for file in files[:num_train]:\n",
        "        source_path = os.path.join(source, file)\n",
        "        destination_path = os.path.join(destination, file)\n",
        "        shutil.copy(source_path, destination_path)\n",
        "\n",
        "# Loop through each element of each folder in the input directory\n",
        "for root, dirs, files in os.walk(input_directory):\n",
        "    for dir_name in dirs:\n",
        "        source_folder = os.path.join(root, dir_name)\n",
        "\n",
        "        # Calculate the split ratio separately for each subfolder\n",
        "        # to ensure different sets for train and test\n",
        "        copy_random_images(source_folder, train_directory)\n",
        "        copy_random_images(source_folder, test_directory)\n"
      ],
      "metadata": {
        "id": "BBLJi82sQLBr"
      },
      "execution_count": 9,
      "outputs": []
    },
    {
      "cell_type": "markdown",
      "source": [
        "Проделываем тот же импорт, разархивирование, экстракцию и перенос файлов для ещё одного мусорного датасета с Kaggle (датасет3)"
      ],
      "metadata": {
        "id": "T620KJCbOd_n"
      }
    },
    {
      "cell_type": "code",
      "source": [
        "from google.colab import files\n",
        "uploaded3 = files.upload()"
      ],
      "metadata": {
        "colab": {
          "base_uri": "https://localhost:8080/",
          "height": 72
        },
        "id": "RSVhQW1NKOmQ",
        "outputId": "667b77ce-eeb7-4855-d90f-7a1224d90b27"
      },
      "execution_count": 6,
      "outputs": [
        {
          "output_type": "display_data",
          "data": {
            "text/plain": [
              "<IPython.core.display.HTML object>"
            ],
            "text/html": [
              "\n",
              "     <input type=\"file\" id=\"files-bd3e6587-fc11-4cb8-be19-66ee70914583\" name=\"files[]\" multiple disabled\n",
              "        style=\"border:none\" />\n",
              "     <output id=\"result-bd3e6587-fc11-4cb8-be19-66ee70914583\">\n",
              "      Upload widget is only available when the cell has been executed in the\n",
              "      current browser session. Please rerun this cell to enable.\n",
              "      </output>\n",
              "      <script>// Copyright 2017 Google LLC\n",
              "//\n",
              "// Licensed under the Apache License, Version 2.0 (the \"License\");\n",
              "// you may not use this file except in compliance with the License.\n",
              "// You may obtain a copy of the License at\n",
              "//\n",
              "//      http://www.apache.org/licenses/LICENSE-2.0\n",
              "//\n",
              "// Unless required by applicable law or agreed to in writing, software\n",
              "// distributed under the License is distributed on an \"AS IS\" BASIS,\n",
              "// WITHOUT WARRANTIES OR CONDITIONS OF ANY KIND, either express or implied.\n",
              "// See the License for the specific language governing permissions and\n",
              "// limitations under the License.\n",
              "\n",
              "/**\n",
              " * @fileoverview Helpers for google.colab Python module.\n",
              " */\n",
              "(function(scope) {\n",
              "function span(text, styleAttributes = {}) {\n",
              "  const element = document.createElement('span');\n",
              "  element.textContent = text;\n",
              "  for (const key of Object.keys(styleAttributes)) {\n",
              "    element.style[key] = styleAttributes[key];\n",
              "  }\n",
              "  return element;\n",
              "}\n",
              "\n",
              "// Max number of bytes which will be uploaded at a time.\n",
              "const MAX_PAYLOAD_SIZE = 100 * 1024;\n",
              "\n",
              "function _uploadFiles(inputId, outputId) {\n",
              "  const steps = uploadFilesStep(inputId, outputId);\n",
              "  const outputElement = document.getElementById(outputId);\n",
              "  // Cache steps on the outputElement to make it available for the next call\n",
              "  // to uploadFilesContinue from Python.\n",
              "  outputElement.steps = steps;\n",
              "\n",
              "  return _uploadFilesContinue(outputId);\n",
              "}\n",
              "\n",
              "// This is roughly an async generator (not supported in the browser yet),\n",
              "// where there are multiple asynchronous steps and the Python side is going\n",
              "// to poll for completion of each step.\n",
              "// This uses a Promise to block the python side on completion of each step,\n",
              "// then passes the result of the previous step as the input to the next step.\n",
              "function _uploadFilesContinue(outputId) {\n",
              "  const outputElement = document.getElementById(outputId);\n",
              "  const steps = outputElement.steps;\n",
              "\n",
              "  const next = steps.next(outputElement.lastPromiseValue);\n",
              "  return Promise.resolve(next.value.promise).then((value) => {\n",
              "    // Cache the last promise value to make it available to the next\n",
              "    // step of the generator.\n",
              "    outputElement.lastPromiseValue = value;\n",
              "    return next.value.response;\n",
              "  });\n",
              "}\n",
              "\n",
              "/**\n",
              " * Generator function which is called between each async step of the upload\n",
              " * process.\n",
              " * @param {string} inputId Element ID of the input file picker element.\n",
              " * @param {string} outputId Element ID of the output display.\n",
              " * @return {!Iterable<!Object>} Iterable of next steps.\n",
              " */\n",
              "function* uploadFilesStep(inputId, outputId) {\n",
              "  const inputElement = document.getElementById(inputId);\n",
              "  inputElement.disabled = false;\n",
              "\n",
              "  const outputElement = document.getElementById(outputId);\n",
              "  outputElement.innerHTML = '';\n",
              "\n",
              "  const pickedPromise = new Promise((resolve) => {\n",
              "    inputElement.addEventListener('change', (e) => {\n",
              "      resolve(e.target.files);\n",
              "    });\n",
              "  });\n",
              "\n",
              "  const cancel = document.createElement('button');\n",
              "  inputElement.parentElement.appendChild(cancel);\n",
              "  cancel.textContent = 'Cancel upload';\n",
              "  const cancelPromise = new Promise((resolve) => {\n",
              "    cancel.onclick = () => {\n",
              "      resolve(null);\n",
              "    };\n",
              "  });\n",
              "\n",
              "  // Wait for the user to pick the files.\n",
              "  const files = yield {\n",
              "    promise: Promise.race([pickedPromise, cancelPromise]),\n",
              "    response: {\n",
              "      action: 'starting',\n",
              "    }\n",
              "  };\n",
              "\n",
              "  cancel.remove();\n",
              "\n",
              "  // Disable the input element since further picks are not allowed.\n",
              "  inputElement.disabled = true;\n",
              "\n",
              "  if (!files) {\n",
              "    return {\n",
              "      response: {\n",
              "        action: 'complete',\n",
              "      }\n",
              "    };\n",
              "  }\n",
              "\n",
              "  for (const file of files) {\n",
              "    const li = document.createElement('li');\n",
              "    li.append(span(file.name, {fontWeight: 'bold'}));\n",
              "    li.append(span(\n",
              "        `(${file.type || 'n/a'}) - ${file.size} bytes, ` +\n",
              "        `last modified: ${\n",
              "            file.lastModifiedDate ? file.lastModifiedDate.toLocaleDateString() :\n",
              "                                    'n/a'} - `));\n",
              "    const percent = span('0% done');\n",
              "    li.appendChild(percent);\n",
              "\n",
              "    outputElement.appendChild(li);\n",
              "\n",
              "    const fileDataPromise = new Promise((resolve) => {\n",
              "      const reader = new FileReader();\n",
              "      reader.onload = (e) => {\n",
              "        resolve(e.target.result);\n",
              "      };\n",
              "      reader.readAsArrayBuffer(file);\n",
              "    });\n",
              "    // Wait for the data to be ready.\n",
              "    let fileData = yield {\n",
              "      promise: fileDataPromise,\n",
              "      response: {\n",
              "        action: 'continue',\n",
              "      }\n",
              "    };\n",
              "\n",
              "    // Use a chunked sending to avoid message size limits. See b/62115660.\n",
              "    let position = 0;\n",
              "    do {\n",
              "      const length = Math.min(fileData.byteLength - position, MAX_PAYLOAD_SIZE);\n",
              "      const chunk = new Uint8Array(fileData, position, length);\n",
              "      position += length;\n",
              "\n",
              "      const base64 = btoa(String.fromCharCode.apply(null, chunk));\n",
              "      yield {\n",
              "        response: {\n",
              "          action: 'append',\n",
              "          file: file.name,\n",
              "          data: base64,\n",
              "        },\n",
              "      };\n",
              "\n",
              "      let percentDone = fileData.byteLength === 0 ?\n",
              "          100 :\n",
              "          Math.round((position / fileData.byteLength) * 100);\n",
              "      percent.textContent = `${percentDone}% done`;\n",
              "\n",
              "    } while (position < fileData.byteLength);\n",
              "  }\n",
              "\n",
              "  // All done.\n",
              "  yield {\n",
              "    response: {\n",
              "      action: 'complete',\n",
              "    }\n",
              "  };\n",
              "}\n",
              "\n",
              "scope.google = scope.google || {};\n",
              "scope.google.colab = scope.google.colab || {};\n",
              "scope.google.colab._files = {\n",
              "  _uploadFiles,\n",
              "  _uploadFilesContinue,\n",
              "};\n",
              "})(self);\n",
              "</script> "
            ]
          },
          "metadata": {}
        },
        {
          "output_type": "stream",
          "name": "stdout",
          "text": [
            "Saving archive (1).zip to archive (1).zip\n"
          ]
        }
      ]
    },
    {
      "cell_type": "code",
      "source": [
        "import zipfile\n",
        "import os\n",
        "\n",
        "# Get the name of the uploaded .7z file\n",
        "file_name = list(uploaded3.keys())[0]\n",
        "\n",
        "# Specify the extraction path\n",
        "extract_path = '/content/extracted3_data'\n",
        "\n",
        "# Create the extraction directory if it doesn't exist\n",
        "os.makedirs(extract_path, exist_ok=True)\n",
        "\n",
        "# Unzip the DATASET.zip file\n",
        "with zipfile.ZipFile(file_name, 'r') as zip_ref:\n",
        "    zip_ref.extractall(extract_path)\n",
        "\n",
        "# Check if the extraction was successful\n",
        "if os.path.exists(extract_path):\n",
        "    print(f\"Extraction successful. Dataset is located at: {extract_path}\")\n",
        "else:\n",
        "    print(\"Extraction failed. Please check the zip file path and try again.\")"
      ],
      "metadata": {
        "colab": {
          "base_uri": "https://localhost:8080/"
        },
        "id": "Z4nUHID1MvfY",
        "outputId": "0b3aa89d-14e3-4fe2-fa43-a95d237ba0b8"
      },
      "execution_count": 8,
      "outputs": [
        {
          "output_type": "stream",
          "name": "stdout",
          "text": [
            "Extraction successful. Dataset is located at: /content/extracted3_data\n"
          ]
        }
      ]
    },
    {
      "cell_type": "code",
      "source": [
        "import os\n",
        "import shutil\n",
        "import random\n",
        "\n",
        "# Define input and output directories\n",
        "input_directory = '/content/extracted3_data/Garbage classification/Garbage classification'\n",
        "output_directory = '/content/extracted_data'\n",
        "\n",
        "# Create train and test directories for 'Other'\n",
        "train_directory = os.path.join(output_directory, 'TRAIN', 'Other')\n",
        "test_directory = os.path.join(output_directory, 'TEST', 'Other')\n",
        "\n",
        "os.makedirs(train_directory, exist_ok=True)\n",
        "os.makedirs(test_directory, exist_ok=True)\n",
        "\n",
        "# Function to copy random images from source to destination\n",
        "def copy_random_images(source, destination, split_ratio=0.5):\n",
        "    files = os.listdir(source)\n",
        "    num_files = len(files)\n",
        "\n",
        "    # Calculate the number of files to copy for training and testing\n",
        "    num_train = int(num_files * split_ratio)\n",
        "\n",
        "    # Randomly shuffle the list of files\n",
        "    random.shuffle(files)\n",
        "\n",
        "    # Copy files to the training directory\n",
        "    for file in files[:num_train]:\n",
        "        source_path = os.path.join(source, file)\n",
        "        destination_path = os.path.join(destination, file)\n",
        "        shutil.copy(source_path, destination_path)\n",
        "\n",
        "# Loop through each element of each folder in the input directory\n",
        "for root, dirs, files in os.walk(input_directory):\n",
        "    for dir_name in dirs:\n",
        "        source_folder = os.path.join(root, dir_name)\n",
        "\n",
        "        # Calculate the split ratio separately for each subfolder\n",
        "        # to ensure different sets for train and test\n",
        "        copy_random_images(source_folder, train_directory)\n",
        "        copy_random_images(source_folder, test_directory)\n"
      ],
      "metadata": {
        "id": "pwjesxCCQIoP"
      },
      "execution_count": 10,
      "outputs": []
    },
    {
      "cell_type": "markdown",
      "source": [
        "Посчитаем итоговое количество элементов в каждой папке TRAIN/ и TEST/ . В итоге у нас в каждом подсете должно быть две папки: M - medical & Other - other trash."
      ],
      "metadata": {
        "id": "H0zYC_MjOrAb"
      }
    },
    {
      "cell_type": "code",
      "source": [
        "import os\n",
        "\n",
        "# Define directories\n",
        "test_directory = '/content/extracted_data/TEST'\n",
        "train_directory = '/content/extracted_data/TRAIN'\n",
        "\n",
        "# Function to count elements in each folder\n",
        "def count_elements_in_folders(directory):\n",
        "    for root, dirs, files in os.walk(directory):\n",
        "        folder_path = os.path.relpath(root, directory)\n",
        "        num_elements = len(files)\n",
        "        print(f\"Folder: {folder_path}, Number of Elements: {num_elements}\")\n",
        "\n",
        "# Count elements in TEST directory\n",
        "print(\"Count in TEST directory:\")\n",
        "count_elements_in_folders(test_directory)\n",
        "\n",
        "# Count elements in TRAIN directory\n",
        "print(\"\\nCount in TRAIN directory:\")\n",
        "count_elements_in_folders(train_directory)\n"
      ],
      "metadata": {
        "colab": {
          "base_uri": "https://localhost:8080/"
        },
        "id": "j2RqjlDMTje-",
        "outputId": "23acdb81-4ed5-4d25-d38f-3717cb2b0836"
      },
      "execution_count": 11,
      "outputs": [
        {
          "output_type": "stream",
          "name": "stdout",
          "text": [
            "Count in TEST directory:\n",
            "Folder: ., Number of Elements: 0\n",
            "Folder: Other, Number of Elements: 2524\n",
            "Folder: M, Number of Elements: 325\n",
            "\n",
            "Count in TRAIN directory:\n",
            "Folder: ., Number of Elements: 0\n",
            "Folder: Other, Number of Elements: 2524\n",
            "Folder: M, Number of Elements: 324\n"
          ]
        }
      ]
    },
    {
      "cell_type": "markdown",
      "source": [
        "Угу, датасет у нас будет по классам немного АНБАЛАНСНЫЙ, я так понимаю..."
      ],
      "metadata": {
        "id": "llDDp47EPHnH"
      }
    },
    {
      "cell_type": "markdown",
      "source": [
        "Архивируем финальный датасет, скачиваем его себе для дальнейшего использования в среде, где расположена наша модель."
      ],
      "metadata": {
        "id": "Tlllo82kPPb6"
      }
    },
    {
      "cell_type": "code",
      "source": [
        "import shutil\n",
        "\n",
        "# Define the paths\n",
        "source_directory = '/content/extracted_data'\n",
        "zip_file_path = '/content/extracted_data.zip'\n",
        "\n",
        "# Create a zip file of the extracted_data directory\n",
        "shutil.make_archive(zip_file_path.replace('.zip', ''), 'zip', source_directory)\n",
        "\n",
        "# Move the zip file to /content\n",
        "shutil.move(zip_file_path.replace('.zip', '') + '.zip', '/content/extracted_data.zip')\n"
      ],
      "metadata": {
        "colab": {
          "base_uri": "https://localhost:8080/",
          "height": 36
        },
        "id": "6YLpOH3pXOPP",
        "outputId": "6777a6a4-f27f-45fb-a23d-de2896ae0145"
      },
      "execution_count": 12,
      "outputs": [
        {
          "output_type": "execute_result",
          "data": {
            "text/plain": [
              "'/content/extracted_data.zip'"
            ],
            "application/vnd.google.colaboratory.intrinsic+json": {
              "type": "string"
            }
          },
          "metadata": {},
          "execution_count": 12
        }
      ]
    }
  ]
}