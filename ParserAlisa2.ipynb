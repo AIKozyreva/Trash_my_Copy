{
 "cells": [
  {
   "cell_type": "markdown",
   "metadata": {},
   "source": [
    "## My code"
   ]
  },
  {
   "cell_type": "code",
   "execution_count": 2,
   "metadata": {},
   "outputs": [],
   "source": [
    "import requests\n",
    "from bs4 import BeautifulSoup\n",
    "import os\n",
    "import base64\n",
    "\n",
    "from PIL import Image # Open a WebP image\n",
    "import re"
   ]
  },
  {
   "cell_type": "code",
   "execution_count": 3,
   "metadata": {},
   "outputs": [],
   "source": [
    "# Function to fetch HTML content of a website\n",
    "def get_html(url):\n",
    "    response = requests.get(url)\n",
    "    return response.text\n"
   ]
  },
  {
   "attachments": {},
   "cell_type": "markdown",
   "metadata": {},
   "source": [
    "### get section names"
   ]
  },
  {
   "cell_type": "code",
   "execution_count": 30,
   "metadata": {},
   "outputs": [],
   "source": [
    "urlmain = 'https://www.sigma-med.ru/catalog/meditcinskie-raskhodnye-materialy'\n",
    "html_doc_main = get_html(urlmain)\n",
    "soup = BeautifulSoup (html_doc_main, 'html.parser')\n",
    "# print(soup.prettify())\n",
    "selected_sections = soup.find_all(class_=\"thumb\")\n",
    "urlsections_path = []\n",
    "for section in selected_sections:\n",
    "    urlsections_path.append(section.get('href'))\n",
    "# urlsections_path\n",
    "urlsections = [s.split('/')[-2] for s in urlsections_path]\n",
    "# urlsections"
   ]
  },
  {
   "attachments": {},
   "cell_type": "markdown",
   "metadata": {},
   "source": [
    "### get images from sections to folders "
   ]
  },
  {
   "cell_type": "code",
   "execution_count": 25,
   "metadata": {},
   "outputs": [
    {
     "name": "stdout",
     "output_type": "stream",
     "text": [
      "Failed to fetch image: Устройство для вливания в малые вены - игла-бабочка 23G (0,6х19мм) LUER SFM 534115022, 100 шт/уп\n",
      "Failed to fetch image: Устройство для вливания в малые вены - игла-бабочка 25G (0,5х19мм) LUER LOCK SFM 534117057, 100шт/уп\n",
      "Failed to fetch image: Устройство для вливания в малые вены - игла-бабочка 22G (0,7х19мм) LUER SFM 534114025, 100 шт/уп\n",
      "Failed to fetch image: Устройство для вливания в малые вены - игла-бабочка 21G (0,8х19мм) LUER LOCK SFM 534113059, 100шт/уп\n",
      "Failed to fetch image: Устройство для вливания в малые вены - игла-бабочка 18G (1,2х19мм) LUER SFM 534110027, 100 шт/уп\n",
      "Failed to process image: Катетер урологический Фолея 2-х ходовой стерильный латексный Vogt Medical CH 12-26  10 шт/уп. Error: cannot identify image file 'c:\\\\Users\\\\alisard\\\\Documents\\\\University\\\\DDE_PISH\\\\Parcing\\\\katetery-urologicheskie\\\\katetery-urologicheskie14.webp'\n",
      "Failed to process image: Катетер урологический Фолея 2-х ходовой стерильный латексный Vogt Medical CH 12-26  10 шт/уп. Error: cannot identify image file 'c:\\\\Users\\\\alisard\\\\Documents\\\\University\\\\DDE_PISH\\\\Parcing\\\\katetery-urologicheskie\\\\katetery-urologicheskie15.webp'\n",
      "Failed to process image: Контейнеры для гистологии. Error: cannot identify image file 'c:\\\\Users\\\\alisard\\\\Documents\\\\University\\\\DDE_PISH\\\\Parcing\\\\konteynery-dlya-analizov\\\\konteynery-dlya-analizov1.webp'\n",
      "Failed to process image: Контейнеры для гистологии. Error: cannot identify image file 'c:\\\\Users\\\\alisard\\\\Documents\\\\University\\\\DDE_PISH\\\\Parcing\\\\konteynery-dlya-analizov\\\\konteynery-dlya-analizov2.webp'\n",
      "Failed to process image: Контейнер для биоматериалов 60мл нестерильный с лопаткой. Error: cannot identify image file 'c:\\\\Users\\\\alisard\\\\Documents\\\\University\\\\DDE_PISH\\\\Parcing\\\\konteynery-dlya-analizov\\\\konteynery-dlya-analizov10.webp'\n",
      "Failed to process image: Контейнер для биоматериалов 120мл стерильный. Error: cannot identify image file 'c:\\\\Users\\\\alisard\\\\Documents\\\\University\\\\DDE_PISH\\\\Parcing\\\\konteynery-dlya-analizov\\\\konteynery-dlya-analizov14.webp'\n",
      "Failed to process image: Контейнер для биоматериалов 120мл нестерильный. Error: cannot identify image file 'c:\\\\Users\\\\alisard\\\\Documents\\\\University\\\\DDE_PISH\\\\Parcing\\\\konteynery-dlya-analizov\\\\konteynery-dlya-analizov15.webp'\n",
      "Failed to process image: Контейнер для биоматериалов 125мл нестерильный. Error: cannot identify image file 'c:\\\\Users\\\\alisard\\\\Documents\\\\University\\\\DDE_PISH\\\\Parcing\\\\konteynery-dlya-analizov\\\\konteynery-dlya-analizov16.webp'\n",
      "Failed to process image: Шприц 20мл (2-х комп) (R), прилож.игла  21G 1½\" (0,8х40 мм), 100 шт/уп. Error: cannot identify image file 'c:\\\\Users\\\\alisard\\\\Documents\\\\University\\\\DDE_PISH\\\\Parcing\\\\shpritcy-meditcinskie\\\\shpritcy-meditcinskie32.webp'\n",
      "Failed to process image: Электроды для ЭКГ одноразовые D=50мм YD50 твердогелевые INEKTA , 50 шт/уп. Error: cannot identify image file 'c:\\\\Users\\\\alisard\\\\Documents\\\\University\\\\DDE_PISH\\\\Parcing\\\\elektrody-dlya-ekg\\\\elektrody-dlya-ekg11.webp'\n",
      "Failed to process image: Устройство дренирующее УноВак 26023185, дренаж Ульмера CH18 / 75см с троакаром. Error: cannot identify image file 'c:\\\\Users\\\\alisard\\\\Documents\\\\University\\\\DDE_PISH\\\\Parcing\\\\drenazhnye-sistemy\\\\drenazhnye-sistemy21.webp'\n",
      "Failed to process image: Зонд желудочный CH/FR 10, 110 см с РКП /Хайянь/. Error: cannot identify image file 'c:\\\\Users\\\\alisard\\\\Documents\\\\University\\\\DDE_PISH\\\\Parcing\\\\zondy-zheludochnye\\\\zondy-zheludochnye5.webp'\n",
      "Failed to process image: Зонд желудочный стерильный одноразовый 76см и 110см (CH6-32) /APEXMED 0121/ . Error: cannot identify image file 'c:\\\\Users\\\\alisard\\\\Documents\\\\University\\\\DDE_PISH\\\\Parcing\\\\zondy-zheludochnye\\\\zondy-zheludochnye9.webp'\n",
      "Failed to process image: Зонд желудочный стерильный одноразовый 76см и 110см (CH6-32) /APEXMED 0121/ . Error: cannot identify image file 'c:\\\\Users\\\\alisard\\\\Documents\\\\University\\\\DDE_PISH\\\\Parcing\\\\zondy-zheludochnye\\\\zondy-zheludochnye10.webp'\n",
      "Failed to process image: Зонд желудочный 80 см стерильный одноразовый Convatec CH10-35   10 шт . Error: cannot identify image file 'c:\\\\Users\\\\alisard\\\\Documents\\\\University\\\\DDE_PISH\\\\Parcing\\\\zondy-zheludochnye\\\\zondy-zheludochnye11.webp'\n",
      "Failed to process image: Зонд желудочный 80 см стерильный одноразовый Convatec CH10-35   10 шт . Error: cannot identify image file 'c:\\\\Users\\\\alisard\\\\Documents\\\\University\\\\DDE_PISH\\\\Parcing\\\\zondy-zheludochnye\\\\zondy-zheludochnye12.webp'\n",
      "Failed to fetch image: Устройство для вливания в малые вены - игла-бабочка 23G (0,6х19мм) LUER SFM 534115022, 100 шт/уп\n",
      "Failed to fetch image: Устройство для вливания в малые вены - игла-бабочка 25G (0,5х19мм) LUER LOCK SFM 534117057, 100шт/уп\n",
      "Failed to fetch image: Устройство для вливания в малые вены - игла-бабочка 22G (0,7х19мм) LUER SFM 534114025, 100 шт/уп\n",
      "Failed to fetch image: Устройство для вливания в малые вены - игла-бабочка 21G (0,8х19мм) LUER LOCK SFM 534113059, 100шт/уп\n",
      "Failed to fetch image: Устройство для вливания в малые вены - игла-бабочка 18G (1,2х19мм) LUER SFM 534110027, 100 шт/уп\n",
      "Failed to process image: Катетер урологический Фолея 2-х ходовой стерильный латексный Vogt Medical CH 12-26  10 шт/уп. Error: cannot identify image file 'c:\\\\Users\\\\alisard\\\\Documents\\\\University\\\\DDE_PISH\\\\Parcing\\\\katetery-urologicheskie\\\\katetery-urologicheskie14.webp'\n",
      "Failed to process image: Катетер урологический Фолея 2-х ходовой стерильный латексный Vogt Medical CH 12-26  10 шт/уп. Error: cannot identify image file 'c:\\\\Users\\\\alisard\\\\Documents\\\\University\\\\DDE_PISH\\\\Parcing\\\\katetery-urologicheskie\\\\katetery-urologicheskie15.webp'\n",
      "Failed to process image: Контейнеры для гистологии. Error: cannot identify image file 'c:\\\\Users\\\\alisard\\\\Documents\\\\University\\\\DDE_PISH\\\\Parcing\\\\konteynery-dlya-analizov\\\\konteynery-dlya-analizov1.webp'\n",
      "Failed to process image: Контейнеры для гистологии. Error: cannot identify image file 'c:\\\\Users\\\\alisard\\\\Documents\\\\University\\\\DDE_PISH\\\\Parcing\\\\konteynery-dlya-analizov\\\\konteynery-dlya-analizov2.webp'\n",
      "Failed to process image: Контейнер для биоматериалов 60мл нестерильный с лопаткой. Error: cannot identify image file 'c:\\\\Users\\\\alisard\\\\Documents\\\\University\\\\DDE_PISH\\\\Parcing\\\\konteynery-dlya-analizov\\\\konteynery-dlya-analizov10.webp'\n",
      "Failed to process image: Контейнер для биоматериалов 120мл стерильный. Error: cannot identify image file 'c:\\\\Users\\\\alisard\\\\Documents\\\\University\\\\DDE_PISH\\\\Parcing\\\\konteynery-dlya-analizov\\\\konteynery-dlya-analizov14.webp'\n",
      "Failed to process image: Контейнер для биоматериалов 120мл нестерильный. Error: cannot identify image file 'c:\\\\Users\\\\alisard\\\\Documents\\\\University\\\\DDE_PISH\\\\Parcing\\\\konteynery-dlya-analizov\\\\konteynery-dlya-analizov15.webp'\n",
      "Failed to process image: Контейнер для биоматериалов 125мл нестерильный. Error: cannot identify image file 'c:\\\\Users\\\\alisard\\\\Documents\\\\University\\\\DDE_PISH\\\\Parcing\\\\konteynery-dlya-analizov\\\\konteynery-dlya-analizov16.webp'\n",
      "Failed to process image: Шприц 20мл (2-х комп) (R), прилож.игла  21G 1½\" (0,8х40 мм), 100 шт/уп. Error: cannot identify image file 'c:\\\\Users\\\\alisard\\\\Documents\\\\University\\\\DDE_PISH\\\\Parcing\\\\shpritcy-meditcinskie\\\\shpritcy-meditcinskie32.webp'\n",
      "Failed to process image: Электроды для ЭКГ 22х34мм Fiab F9049 (Италия) одноразовые пленочные RU2234TAB, 100 шт/уп. Error: [WinError 5] Access is denied: 'c:\\\\Users\\\\alisard\\\\Documents\\\\University\\\\DDE_PISH\\\\Parcing\\\\elektrody-dlya-ekg\\\\elektrody-dlya-ekg10.webp'\n",
      "Failed to process image: Электроды для ЭКГ одноразовые D=50мм YD50 твердогелевые INEKTA , 50 шт/уп. Error: cannot identify image file 'c:\\\\Users\\\\alisard\\\\Documents\\\\University\\\\DDE_PISH\\\\Parcing\\\\elektrody-dlya-ekg\\\\elektrody-dlya-ekg11.webp'\n"
     ]
    }
   ],
   "source": [
    "urlsections = urlsections[3:] #['biopsiynye-nabory','bumaga-dlya-meditsinskikh-priborov']\n",
    "\n",
    "for urlsection in urlsections:\n",
    "    url = urlmain+'/'+urlsection \n",
    "    html_doc = get_html(url)\n",
    "    soup = BeautifulSoup (html_doc, 'html.parser')\n",
    "    # print(soup.prettify())\n",
    "    selected_images = soup.find_all(class_=\"lazy img-responsive\")\n",
    "    webmain = 'https://www.sigma-med.ru/'\n",
    "    output_folder = urlsection\n",
    "    output_folder_path = os.path.join(os.getcwd(), output_folder)\n",
    "\n",
    "    c=0\n",
    "    for img in selected_images:\n",
    "        c = c + 1\n",
    "        img_alt = img.get('alt')\n",
    "        img_src = img.get('data-src')\n",
    "\n",
    "        response = requests.get(webmain + img_src)\n",
    "        if response.status_code == 200:\n",
    "            try:\n",
    "                image_name_raw = urlsection + str(c)\n",
    "                image_namew = f\"{image_name_raw}.webp\"\n",
    "                image_namep = f\"{image_name_raw}.png\"\n",
    "                file_pathw = os.path.join(output_folder_path, image_namew)  # Creating the file path\n",
    "                if not os.path.exists(output_folder_path):\n",
    "                    os.makedirs(output_folder_path)\n",
    "                with open(file_pathw, 'wb') as f:\n",
    "                    f.write(response.content)\n",
    "                webp_image = Image.open(file_pathw)\n",
    "                png_image = webp_image.convert(\"RGBA\")\n",
    "                png_image.save(os.path.join(os.getcwd(), output_folder, image_namep))\n",
    "                webp_image.close()\n",
    "                os.remove(file_pathw)\n",
    "            except Exception as e:\n",
    "                print(f\"Failed to process image: {img_alt}. Error: {e}\")\n",
    "        else:\n",
    "            print(f\"Failed to fetch image: {img_alt}\")"
   ]
  },
  {
   "cell_type": "code",
   "execution_count": null,
   "metadata": {},
   "outputs": [],
   "source": []
  },
  {
   "cell_type": "code",
   "execution_count": null,
   "metadata": {},
   "outputs": [],
   "source": []
  },
  {
   "attachments": {},
   "cell_type": "markdown",
   "metadata": {},
   "source": [
    "## part 2 - probirki "
   ]
  },
  {
   "cell_type": "code",
   "execution_count": 8,
   "metadata": {},
   "outputs": [
    {
     "data": {
      "text/plain": [
       "['kortcangi',\n",
       " 'shpateli-i-kiuretki',\n",
       " 'lotki',\n",
       " 'nozhi-nozhnitcy-i-skalpeli',\n",
       " 'pintsety',\n",
       " 'skalpeli-odnorazovye-i-mnogorazovye',\n",
       " 'skarifikatory-i-lantsety',\n",
       " 'stetoskopy-meditsinskie',\n",
       " 'voronki_ushnye',\n",
       " 'zazhimy',\n",
       " 'otorinolaringologicheskie_instrumenty',\n",
       " 'kortcangi',\n",
       " 'shpateli-i-kiuretki',\n",
       " 'lotki',\n",
       " 'nozhi-nozhnitcy-i-skalpeli',\n",
       " 'pintsety',\n",
       " 'skalpeli-odnorazovye-i-mnogorazovye',\n",
       " 'skarifikatory-i-lantsety',\n",
       " 'stetoskopy-meditsinskie',\n",
       " 'voronki_ushnye',\n",
       " 'zazhimy',\n",
       " 'otorinolaringologicheskie_instrumenty',\n",
       " 'zerkalo_odnorazovoe_gortannoe_sterilnoe',\n",
       " 'zerkalo_odnorazovoe_gortannoe_sterilnoe',\n",
       " 'skalpel_khirurgicheskiy_odnorazovyy_bryushistyy_rossiya_10_sht_up',\n",
       " 'skalpel_meditsinskiy_sterilnyy_iz_nerzhaveyushchey_stali_paramount',\n",
       " 'skalpel_meditsinskiy_sterilnyy_iz_nerzhaveyushchey_stali_paramount',\n",
       " 'pintset_sterilnyy_odnorazovyy',\n",
       " 'pintset_sterilnyy_odnorazovyy',\n",
       " 'lezvie-oft-m-kh-ostrokonechnye-pod-uglom-45-gr-shirina-1-5mm-odnorazovoe-upak-90-sht-pr-vo-rossiya',\n",
       " 'lezvie-oft-m-kh-ostrokonechnye-pod-uglom-45-gr-shirina-1-5mm-odnorazovoe-upak-90-sht-pr-vo-rossiya',\n",
       " 'shpatel-ginekologicheskii-2-kh-storonnii',\n",
       " 'skalpel-ostrokonechnyi-srednii',\n",
       " 'zerkalo_nosovoe_odnorazovoe_polimernoe_30_mm',\n",
       " 'skarifikator-bokovoe-kope-sterilnyi',\n",
       " 'skarifikator-tcentralnoe-kope-sterilnyi',\n",
       " 'skalpel_odnorazovyy_khirurgicheskiy_lezvie_iz_nerzhaveyushchey_stali_24_volkmann_10_sht_upak',\n",
       " 'skarifikator-sterilnyi-detskii-s-tcentralnym-kopem-2-7-mm',\n",
       " 'skalpel_odnorazovyy_khirurgicheskiy_lezvie_iz_nerzhaveyushchey_stali_23_volkmann_10_sht_upak',\n",
       " 'lotok_pochkoobraznyy_n_s_200_mm_lmp_200',\n",
       " 'lotok-pochkoobraznyi-polimernyi-160-mm-sterilnyi',\n",
       " 'voronka_ushnaya_odnorazovaya_r_m_d_4_0_mm_dlina_35_mm_sterilnaya_unicornmed_jiangsu_yada_technol',\n",
       " 'lotok-pochkoobraznyi-polimernyi-260-mm-sterilnyi',\n",
       " 'lezvie_odnorazovoe_khirurgicheskoe_iz_uglerod_stali_11_volkmann_ref_1827_v210_11_up_100sht_',\n",
       " 'lotok_pryamougolnyy_260_180_30_mm_nerzhaveyushchaya_stal',\n",
       " 'lotok-priamougolnyi-300kh220kh30-mm-nerzhaveiushchaia-stal',\n",
       " 'nozhnitcy-s-1-m-ostrym-kontcom-izognutye-140-mm',\n",
       " 'korntsang_pryamoy_260_mm',\n",
       " 'rotorasshiritel_vintovoy_r_5_p',\n",
       " 'skalpel-paragon-10-sht-up-razmer-21-tcena-za-1-upakovku',\n",
       " 'skalpel-paragon-10-sht-up-razmer-12-tcena-za-1-upakovku',\n",
       " 'pintset_anatomicheskiy_150_mm_vz_pm_11_',\n",
       " 'skalpel_ostrokonechnyy_radiusnyy_sredniy_150kh40',\n",
       " 'nozhnitcy-tupokonechnye-vertikalnoizognutye-140-mm',\n",
       " 'nozhnitcy-s-1-ostrym-kontcom-priamye-140-mm',\n",
       " 'korntcang-priamoi-dlia-detei-230-mm',\n",
       " 'zazhimnoy_instrument_yazykoderzhatel_dlya_vzroslykh_j_33_509',\n",
       " 'pintset_glaznoy_pryamoy_anatomicheskiy_120_mm',\n",
       " 'pintset_khirurgicheskiy_250_mm',\n",
       " 'nozhnitsy_sosudistye_vertik_izognut_pod_uglom_160_mm',\n",
       " 'korntsang_izognutyy_dlya_detey_228_mm',\n",
       " 'instrumenty_ottesnyayushchie_voronka_ushnaya_nikelirovannaya_2_3_40_2',\n",
       " 'pintset_khirurgicheskiy_200_mm_sale',\n",
       " 'zerkalo-nosovoe-detskoe-22-mm',\n",
       " 'nozhnitcy-s-2-mia-ostrymi-kontcami-izognutye-140-mm',\n",
       " 'nozhnitcy-dlia-strizhki-volos-175-mm']"
      ]
     },
     "execution_count": 8,
     "metadata": {},
     "output_type": "execute_result"
    }
   ],
   "source": [
    "# urlmain = 'https://www.sigma-med.ru/catalog/probirki-dlia-laboratorii/'\n",
    "# urlmain = 'https://www.sigma-med.ru/catalog/ginekologiia/'\n",
    "urlmain = 'https://www.sigma-med.ru/catalog/instrumentarii/'\n",
    "html_doc_main = get_html(urlmain)\n",
    "soup = BeautifulSoup (html_doc_main, 'html.parser')\n",
    "# print(soup.prettify())\n",
    "selected_sections = soup.find_all(class_=\"thumb\")\n",
    "urlsections_path = []\n",
    "for section in selected_sections:\n",
    "    urlsections_path.append(section.get('href'))\n",
    "# urlsections_path\n",
    "urlsections = [s.split('/')[-2] for s in urlsections_path]\n",
    "urlsections"
   ]
  },
  {
   "cell_type": "code",
   "execution_count": 9,
   "metadata": {},
   "outputs": [
    {
     "name": "stdout",
     "output_type": "stream",
     "text": [
      "Failed to process image: Скальпель одноразовый хирургический, лезвие из нержавеющей стали №24 Volkmann 10 шт/упак. Error: cannot identify image file 'c:\\\\Users\\\\alisard\\\\Documents\\\\University\\\\DDE_PISH\\\\Parcing\\\\skalpeli-odnorazovye-i-mnogorazovye\\\\skalpeli-odnorazovye-i-mnogorazovye7.webp'\n",
      "Failed to process image: Скальпель одноразовый хирургический, лезвие из нержавеющей стали №23 Volkmann 10 шт/упак. Error: cannot identify image file 'c:\\\\Users\\\\alisard\\\\Documents\\\\University\\\\DDE_PISH\\\\Parcing\\\\skalpeli-odnorazovye-i-mnogorazovye\\\\skalpeli-odnorazovye-i-mnogorazovye8.webp'\n",
      "Failed to process image: Лезвие одноразовое хирургическое из нержавеющей стали №24,Volkmann,REF 1827-V320-24. Error: cannot identify image file 'c:\\\\Users\\\\alisard\\\\Documents\\\\University\\\\DDE_PISH\\\\Parcing\\\\skalpeli-odnorazovye-i-mnogorazovye\\\\skalpeli-odnorazovye-i-mnogorazovye14.webp'\n",
      "Failed to process image: Скальпель FEATHER (Япония). Error: cannot identify image file 'c:\\\\Users\\\\alisard\\\\Documents\\\\University\\\\DDE_PISH\\\\Parcing\\\\skalpeli-odnorazovye-i-mnogorazovye\\\\skalpeli-odnorazovye-i-mnogorazovye19.webp'\n",
      "Failed to process image: Скальпель FEATHER (Япония). Error: cannot identify image file 'c:\\\\Users\\\\alisard\\\\Documents\\\\University\\\\DDE_PISH\\\\Parcing\\\\skalpeli-odnorazovye-i-mnogorazovye\\\\skalpeli-odnorazovye-i-mnogorazovye20.webp'\n",
      "Failed to process image: Скальпель одноразовый хирургический, лезвие из нержавеющей стали №24 Volkmann 10 шт/упак. Error: cannot identify image file 'c:\\\\Users\\\\alisard\\\\Documents\\\\University\\\\DDE_PISH\\\\Parcing\\\\skalpeli-odnorazovye-i-mnogorazovye\\\\skalpeli-odnorazovye-i-mnogorazovye7.webp'\n",
      "Failed to process image: Скальпель одноразовый хирургический, лезвие из нержавеющей стали №23 Volkmann 10 шт/упак. Error: cannot identify image file 'c:\\\\Users\\\\alisard\\\\Documents\\\\University\\\\DDE_PISH\\\\Parcing\\\\skalpeli-odnorazovye-i-mnogorazovye\\\\skalpeli-odnorazovye-i-mnogorazovye8.webp'\n",
      "Failed to process image: Лезвие одноразовое хирургическое из нержавеющей стали №24,Volkmann,REF 1827-V320-24. Error: cannot identify image file 'c:\\\\Users\\\\alisard\\\\Documents\\\\University\\\\DDE_PISH\\\\Parcing\\\\skalpeli-odnorazovye-i-mnogorazovye\\\\skalpeli-odnorazovye-i-mnogorazovye14.webp'\n",
      "Failed to process image: Скальпель FEATHER (Япония). Error: cannot identify image file 'c:\\\\Users\\\\alisard\\\\Documents\\\\University\\\\DDE_PISH\\\\Parcing\\\\skalpeli-odnorazovye-i-mnogorazovye\\\\skalpeli-odnorazovye-i-mnogorazovye19.webp'\n",
      "Failed to process image: Скальпель FEATHER (Япония). Error: cannot identify image file 'c:\\\\Users\\\\alisard\\\\Documents\\\\University\\\\DDE_PISH\\\\Parcing\\\\skalpeli-odnorazovye-i-mnogorazovye\\\\skalpeli-odnorazovye-i-mnogorazovye20.webp'\n"
     ]
    }
   ],
   "source": [
    "urlsections = urlsections[:] \n",
    "\n",
    "for urlsection in urlsections:\n",
    "    \n",
    "    url = urlmain+'/'+urlsection \n",
    "    html_doc = get_html(url)\n",
    "    soup = BeautifulSoup (html_doc, 'html.parser')\n",
    "    # print(soup.prettify())\n",
    "    selected_images = soup.find_all(class_=\"lazy img-responsive\")\n",
    "    webmain = 'https://www.sigma-med.ru/'\n",
    "    output_folder = urlsection\n",
    "    output_folder_path = os.path.join(os.getcwd(), output_folder)\n",
    "\n",
    "    c=0\n",
    "    for img in selected_images:\n",
    "        c = c + 1\n",
    "        img_alt = img.get('alt')\n",
    "        img_src = img.get('data-src')\n",
    "\n",
    "        response = requests.get(webmain + img_src)\n",
    "        if response.status_code == 200:\n",
    "            try:\n",
    "                image_name_raw = urlsection + str(c)\n",
    "                image_namew = f\"{image_name_raw}.webp\"\n",
    "                image_namep = f\"{image_name_raw}.png\"\n",
    "                file_pathw = os.path.join(output_folder_path, image_namew)  # Creating the file path\n",
    "                if not os.path.exists(output_folder_path):\n",
    "                    os.makedirs(output_folder_path)\n",
    "                with open(file_pathw, 'wb') as f:\n",
    "                    f.write(response.content)\n",
    "                webp_image = Image.open(file_pathw)\n",
    "                png_image = webp_image.convert(\"RGBA\")\n",
    "                png_image.save(os.path.join(os.getcwd(), output_folder, image_namep))\n",
    "                webp_image.close()\n",
    "                os.remove(file_pathw)\n",
    "            except Exception as e:\n",
    "                print(f\"Failed to process image: {img_alt}. Error: {e}\")\n",
    "        else:\n",
    "            print(f\"Failed to fetch image: {img_alt}\")"
   ]
  }
 ],
 "metadata": {
  "kernelspec": {
   "display_name": "Python 3",
   "language": "python",
   "name": "python3"
  },
  "language_info": {
   "codemirror_mode": {
    "name": "ipython",
    "version": 3
   },
   "file_extension": ".py",
   "mimetype": "text/x-python",
   "name": "python",
   "nbconvert_exporter": "python",
   "pygments_lexer": "ipython3",
   "version": "3.12.0"
  }
 },
 "nbformat": 4,
 "nbformat_minor": 2
}
